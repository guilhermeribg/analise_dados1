{
  "nbformat": 4,
  "nbformat_minor": 0,
  "metadata": {
    "colab": {
      "name": "Exercício 2 - Análise de dados - gráficos.ipynb",
      "provenance": [],
      "collapsed_sections": [],
      "authorship_tag": "ABX9TyPohIDVADmRFRuVqA2VWdl8",
      "include_colab_link": true
    },
    "kernelspec": {
      "name": "python3",
      "display_name": "Python 3"
    }
  },
  "cells": [
    {
      "cell_type": "markdown",
      "metadata": {
        "id": "view-in-github",
        "colab_type": "text"
      },
      "source": [
        "<a href=\"https://colab.research.google.com/github/guilhermeribg/analise_dados1/blob/main/Exerc%C3%ADcio_2_An%C3%A1lise_de_dados_gr%C3%A1ficos.ipynb\" target=\"_parent\"><img src=\"https://colab.research.google.com/assets/colab-badge.svg\" alt=\"Open In Colab\"/></a>"
      ]
    },
    {
      "cell_type": "markdown",
      "metadata": {
        "id": "nJHrbly2UcD1"
      },
      "source": [
        "#Exercício 2"
      ]
    },
    {
      "cell_type": "markdown",
      "metadata": {
        "id": "_-19PtJpUehT"
      },
      "source": [
        "##ORGANIZANDO A BASE DE DADOS\n"
      ]
    },
    {
      "cell_type": "code",
      "metadata": {
        "id": "zWDrtRXIUapq",
        "outputId": "2336d911-93e9-49b3-e021-6694af382be8",
        "colab": {
          "base_uri": "https://localhost:8080/",
          "height": 191
        }
      },
      "source": [
        "import pandas as pd\n",
        "import sqlalchemy\n",
        "\n",
        "frequencia = pd.read_csv(\"https://raw.githubusercontent.com/guilhermeribg/analise_dados1/main/senadores.csv\")\n",
        "frequencia.columns = [\"código\", \"classificação\", \"frequencia_homens\", \"frequencia_mulheres\"]\n",
        "frequencia.head(10)"
      ],
      "execution_count": 2,
      "outputs": [
        {
          "output_type": "execute_result",
          "data": {
            "text/html": [
              "<div>\n",
              "<style scoped>\n",
              "    .dataframe tbody tr th:only-of-type {\n",
              "        vertical-align: middle;\n",
              "    }\n",
              "\n",
              "    .dataframe tbody tr th {\n",
              "        vertical-align: top;\n",
              "    }\n",
              "\n",
              "    .dataframe thead th {\n",
              "        text-align: right;\n",
              "    }\n",
              "</style>\n",
              "<table border=\"1\" class=\"dataframe\">\n",
              "  <thead>\n",
              "    <tr style=\"text-align: right;\">\n",
              "      <th></th>\n",
              "      <th>código</th>\n",
              "      <th>classificação</th>\n",
              "      <th>frequencia_homens</th>\n",
              "      <th>frequencia_mulheres</th>\n",
              "    </tr>\n",
              "  </thead>\n",
              "  <tbody>\n",
              "    <tr>\n",
              "      <th>0</th>\n",
              "      <td>2</td>\n",
              "      <td>Excelente</td>\n",
              "      <td>368</td>\n",
              "      <td>350</td>\n",
              "    </tr>\n",
              "    <tr>\n",
              "      <th>1</th>\n",
              "      <td>3</td>\n",
              "      <td>Muito bom</td>\n",
              "      <td>550</td>\n",
              "      <td>375</td>\n",
              "    </tr>\n",
              "    <tr>\n",
              "      <th>2</th>\n",
              "      <td>4</td>\n",
              "      <td>Bom</td>\n",
              "      <td>426</td>\n",
              "      <td>165</td>\n",
              "    </tr>\n",
              "    <tr>\n",
              "      <th>3</th>\n",
              "      <td>5</td>\n",
              "      <td>Razoável</td>\n",
              "      <td>450</td>\n",
              "      <td>360</td>\n",
              "    </tr>\n",
              "    <tr>\n",
              "      <th>4</th>\n",
              "      <td>6</td>\n",
              "      <td>Ruim</td>\n",
              "      <td>206</td>\n",
              "      <td>250</td>\n",
              "    </tr>\n",
              "  </tbody>\n",
              "</table>\n",
              "</div>"
            ],
            "text/plain": [
              "   código classificação  frequencia_homens  frequencia_mulheres\n",
              "0       2     Excelente                368                  350\n",
              "1       3     Muito bom                550                  375\n",
              "2       4           Bom                426                  165\n",
              "3       5      Razoável                450                  360\n",
              "4       6          Ruim                206                  250"
            ]
          },
          "metadata": {
            "tags": []
          },
          "execution_count": 2
        }
      ]
    },
    {
      "cell_type": "code",
      "metadata": {
        "id": "Cxf4TlssVLZr",
        "outputId": "49c3b036-4c50-463a-bf69-5d7e0fcca3f8",
        "colab": {
          "base_uri": "https://localhost:8080/"
        }
      },
      "source": [
        "#tirar a frequencia relativa\n",
        "\n",
        "def freq_rel(vetor):\n",
        "    soma = 0;\n",
        "    for i in vetor:\n",
        "      soma = soma + i;\n",
        "    vetor_freq = [];\n",
        "    for i in vetor:\n",
        "      vetor_freq.append(round(i/soma,2));\n",
        "    return vetor_freq   \n",
        "  \n",
        "frequencia_relativa_homens = freq_rel(frequencia[\"frequencia_homens\"])\n",
        "frequencia_relativa_mulheres = freq_rel(frequencia[\"frequencia_mulheres\"])\n",
        "print(frequencia_relativa_homens)\n",
        "print(frequencia_relativa_mulheres)"
      ],
      "execution_count": 3,
      "outputs": [
        {
          "output_type": "stream",
          "text": [
            "[0.18, 0.28, 0.21, 0.23, 0.1]\n",
            "[0.23, 0.25, 0.11, 0.24, 0.17]\n"
          ],
          "name": "stdout"
        }
      ]
    },
    {
      "cell_type": "code",
      "metadata": {
        "id": "1y4Puap6Wq1T",
        "outputId": "10c1c2e7-0259-46d3-fac5-bf51cbcc2afa",
        "colab": {
          "base_uri": "https://localhost:8080/",
          "height": 191
        }
      },
      "source": [
        "frequencia = frequencia.assign(frequencia_relativa_homens=pd.Series(frequencia_relativa_homens))\n",
        "\n",
        "frequencia = frequencia.assign(frequencia_relativa_mulheres=pd.Series(frequencia_relativa_mulheres))\n",
        "\n",
        "frequencia"
      ],
      "execution_count": 5,
      "outputs": [
        {
          "output_type": "execute_result",
          "data": {
            "text/html": [
              "<div>\n",
              "<style scoped>\n",
              "    .dataframe tbody tr th:only-of-type {\n",
              "        vertical-align: middle;\n",
              "    }\n",
              "\n",
              "    .dataframe tbody tr th {\n",
              "        vertical-align: top;\n",
              "    }\n",
              "\n",
              "    .dataframe thead th {\n",
              "        text-align: right;\n",
              "    }\n",
              "</style>\n",
              "<table border=\"1\" class=\"dataframe\">\n",
              "  <thead>\n",
              "    <tr style=\"text-align: right;\">\n",
              "      <th></th>\n",
              "      <th>código</th>\n",
              "      <th>classificação</th>\n",
              "      <th>frequencia_homens</th>\n",
              "      <th>frequencia_mulheres</th>\n",
              "      <th>frequencia_relativa_homens</th>\n",
              "      <th>frequencia_relativa_mulheres</th>\n",
              "    </tr>\n",
              "  </thead>\n",
              "  <tbody>\n",
              "    <tr>\n",
              "      <th>0</th>\n",
              "      <td>2</td>\n",
              "      <td>Excelente</td>\n",
              "      <td>368</td>\n",
              "      <td>350</td>\n",
              "      <td>0.18</td>\n",
              "      <td>0.23</td>\n",
              "    </tr>\n",
              "    <tr>\n",
              "      <th>1</th>\n",
              "      <td>3</td>\n",
              "      <td>Muito bom</td>\n",
              "      <td>550</td>\n",
              "      <td>375</td>\n",
              "      <td>0.28</td>\n",
              "      <td>0.25</td>\n",
              "    </tr>\n",
              "    <tr>\n",
              "      <th>2</th>\n",
              "      <td>4</td>\n",
              "      <td>Bom</td>\n",
              "      <td>426</td>\n",
              "      <td>165</td>\n",
              "      <td>0.21</td>\n",
              "      <td>0.11</td>\n",
              "    </tr>\n",
              "    <tr>\n",
              "      <th>3</th>\n",
              "      <td>5</td>\n",
              "      <td>Razoável</td>\n",
              "      <td>450</td>\n",
              "      <td>360</td>\n",
              "      <td>0.23</td>\n",
              "      <td>0.24</td>\n",
              "    </tr>\n",
              "    <tr>\n",
              "      <th>4</th>\n",
              "      <td>6</td>\n",
              "      <td>Ruim</td>\n",
              "      <td>206</td>\n",
              "      <td>250</td>\n",
              "      <td>0.10</td>\n",
              "      <td>0.17</td>\n",
              "    </tr>\n",
              "  </tbody>\n",
              "</table>\n",
              "</div>"
            ],
            "text/plain": [
              "   código  ... frequencia_relativa_mulheres\n",
              "0       2  ...                         0.23\n",
              "1       3  ...                         0.25\n",
              "2       4  ...                         0.11\n",
              "3       5  ...                         0.24\n",
              "4       6  ...                         0.17\n",
              "\n",
              "[5 rows x 6 columns]"
            ]
          },
          "metadata": {
            "tags": []
          },
          "execution_count": 5
        }
      ]
    },
    {
      "cell_type": "markdown",
      "metadata": {
        "id": "bkxxsgd0XMaL"
      },
      "source": [
        "##CONSTRUINDO OS GRÁFICOS\n"
      ]
    },
    {
      "cell_type": "code",
      "metadata": {
        "id": "GqZpySV2XERg",
        "outputId": "06eea2f0-0096-47f5-becf-60d690525370",
        "colab": {
          "base_uri": "https://localhost:8080/",
          "height": 547
        }
      },
      "source": [
        "import seaborn as sns  ##vou trabalhar com paletes de cor\n",
        "import matplotlib.pyplot as plt\n",
        "sns.set_style(\"whitegrid\")\n",
        "\n",
        "\n",
        "plt.figure(figsize=(16,8)) ##o primeiro parâmetro é do eixo x e o segundo do y\n",
        "sns.barplot(\n",
        "      x= frequencia[\"classificação\"],\n",
        "      y= frequencia[\"frequencia_relativa_homens\"].values, ##escolhendo o que vai ser no eixo x e no eixo y\n",
        "      palette=sns.color_palette(\"BuGn_r\", n_colors=len(frequencia) + 4),\n",
        ")\n",
        "\n",
        "degrees = 45\n",
        "plt.xticks(rotation=degrees)\n",
        "plt.title(\"Frequência Relativa dos homens\")\n",
        "plt.show()"
      ],
      "execution_count": 8,
      "outputs": [
        {
          "output_type": "display_data",
          "data": {
            "image/png": "[encoded data removed]",
            "text/plain": [
              "<Figure size 1152x576 with 1 Axes>"
            ]
          },
          "metadata": {
            "tags": []
          }
        }
      ]
    },
    {
      "cell_type": "code",
      "metadata": {
        "id": "TpMTZzLMXyyy",
        "outputId": "7a3e24b4-c756-4344-e396-8483e77c1c83",
        "colab": {
          "base_uri": "https://localhost:8080/",
          "height": 547
        }
      },
      "source": [
        "import seaborn as sns  ##vou trabalhar com paletes de cor\n",
        "import matplotlib.pyplot as plt\n",
        "sns.set_style(\"whitegrid\")\n",
        "\n",
        "\n",
        "plt.figure(figsize=(16,8)) ##o primeiro parâmetro é do eixo x e o segundo do y\n",
        "sns.barplot(\n",
        "      x= frequencia[\"classificação\"],\n",
        "      y= frequencia[\"frequencia_relativa_mulheres\"].values, ##escolhendo o que vai ser no eixo x e no eixo y\n",
        "      palette=sns.color_palette(\"BuGn_r\", n_colors=len(frequencia) + 4),\n",
        ")\n",
        "\n",
        "degrees = 45\n",
        "plt.xticks(rotation=degrees)\n",
        "plt.title(\"Frequência Relativa das mulheres\")\n",
        "plt.show()"
      ],
      "execution_count": 9,
      "outputs": [
        {
          "output_type": "display_data",
          "data": {
            "image/png": "[encoded data removed]",
            "text/plain": [
              "<Figure size 1152x576 with 1 Axes>"
            ]
          },
          "metadata": {
            "tags": []
          }
        }
      ]
    },
    {
      "cell_type": "markdown",
      "metadata": {
        "id": "ZGoUkQMBZR_B"
      },
      "source": [
        "A representação do gráfico utilizando a frequência relativa facilita na análise dos dados, visto que podemos transformar os valores em porcentagem, ou seja, considerar as diferenças apenas no intervalo de 0 a 1. Os valores absolutos são muito variáveis, de 206 a 550, no caso dos homens, por exemplo, o que pode dificultar a visualização para a análise do gráfico.\n"
      ]
    }
  ]
}