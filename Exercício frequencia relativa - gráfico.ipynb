{
  "nbformat": 4,
  "nbformat_minor": 0,
  "metadata": {
    "colab": {
      "name": "Untitled0.ipynb",
      "provenance": [],
      "collapsed_sections": [],
      "authorship_tag": "ABX9TyO4d5UqQVzQZA48Szw9ud0f",
      "include_colab_link": true
    },
    "kernelspec": {
      "name": "python3",
      "display_name": "Python 3"
    }
  },
  "cells": [
    {
      "cell_type": "markdown",
      "metadata": {
        "id": "view-in-github",
        "colab_type": "text"
      },
      "source": [
        "<a href=\"https://colab.research.google.com/github/guilhermeribg/analise_dados1/blob/main/Exerc%C3%ADcio%20frequencia%20relativa%20-%20gr%C3%A1fico.ipynb\" target=\"_parent\"><img src=\"https://colab.research.google.com/assets/colab-badge.svg\" alt=\"Open In Colab\"/></a>"
      ]
    },
    {
      "cell_type": "markdown",
      "metadata": {
        "id": "19YfJVfmOHko"
      },
      "source": [
        "# Olá professora, ao invés de usar o Excel, optei por utilizar o pandas, na linguagem python, para resolver os exercícios. Os gráficos estão no fim da página.\n",
        "\n",
        "---\n",
        "\n"
      ]
    },
    {
      "cell_type": "code",
      "metadata": {
        "id": "2pv_CnxnRmwp"
      },
      "source": [
        "import pandas as pd\n",
        "import sqlalchemy"
      ],
      "execution_count": null,
      "outputs": []
    },
    {
      "cell_type": "code",
      "metadata": {
        "id": "_uFWcayuXrg5",
        "outputId": "e7b57fa6-4ed5-4b52-ca06-e6605b0aa4b3",
        "colab": {
          "base_uri": "https://localhost:8080/",
          "height": 277
        }
      },
      "source": [
        "frequencia = pd.read_csv(\"https://raw.githubusercontent.com/guilhermeribg/analise_dados1/main/frequencia_vitaminab3.csv\")\n",
        "frequencia.columns = [\"cod\", \"classe\", \"frequencia_EUA\", \"frequencia_EUR\"]\n",
        "frequencia.head(10)\n"
      ],
      "execution_count": null,
      "outputs": [
        {
          "output_type": "execute_result",
          "data": {
            "text/html": [
              "<div>\n",
              "<style scoped>\n",
              "    .dataframe tbody tr th:only-of-type {\n",
              "        vertical-align: middle;\n",
              "    }\n",
              "\n",
              "    .dataframe tbody tr th {\n",
              "        vertical-align: top;\n",
              "    }\n",
              "\n",
              "    .dataframe thead th {\n",
              "        text-align: right;\n",
              "    }\n",
              "</style>\n",
              "<table border=\"1\" class=\"dataframe\">\n",
              "  <thead>\n",
              "    <tr style=\"text-align: right;\">\n",
              "      <th></th>\n",
              "      <th>cod</th>\n",
              "      <th>classe</th>\n",
              "      <th>frequencia_EUA</th>\n",
              "      <th>frequencia_EUR</th>\n",
              "    </tr>\n",
              "  </thead>\n",
              "  <tbody>\n",
              "    <tr>\n",
              "      <th>0</th>\n",
              "      <td>2</td>\n",
              "      <td>0-3</td>\n",
              "      <td>15</td>\n",
              "      <td>4</td>\n",
              "    </tr>\n",
              "    <tr>\n",
              "      <th>1</th>\n",
              "      <td>3</td>\n",
              "      <td>3-6</td>\n",
              "      <td>23</td>\n",
              "      <td>6</td>\n",
              "    </tr>\n",
              "    <tr>\n",
              "      <th>2</th>\n",
              "      <td>4</td>\n",
              "      <td>6-9</td>\n",
              "      <td>21</td>\n",
              "      <td>12</td>\n",
              "    </tr>\n",
              "    <tr>\n",
              "      <th>3</th>\n",
              "      <td>5</td>\n",
              "      <td>9-12</td>\n",
              "      <td>14</td>\n",
              "      <td>17</td>\n",
              "    </tr>\n",
              "    <tr>\n",
              "      <th>4</th>\n",
              "      <td>6</td>\n",
              "      <td>12-15</td>\n",
              "      <td>12</td>\n",
              "      <td>32</td>\n",
              "    </tr>\n",
              "    <tr>\n",
              "      <th>5</th>\n",
              "      <td>7</td>\n",
              "      <td>15-18</td>\n",
              "      <td>9</td>\n",
              "      <td>25</td>\n",
              "    </tr>\n",
              "    <tr>\n",
              "      <th>6</th>\n",
              "      <td>8</td>\n",
              "      <td>18-21</td>\n",
              "      <td>3</td>\n",
              "      <td>20</td>\n",
              "    </tr>\n",
              "    <tr>\n",
              "      <th>7</th>\n",
              "      <td>9</td>\n",
              "      <td>21-24</td>\n",
              "      <td>2</td>\n",
              "      <td>10</td>\n",
              "    </tr>\n",
              "  </tbody>\n",
              "</table>\n",
              "</div>"
            ],
            "text/plain": [
              "   cod classe  frequencia_EUA  frequencia_EUR\n",
              "0    2    0-3              15               4\n",
              "1    3    3-6              23               6\n",
              "2    4    6-9              21              12\n",
              "3    5   9-12              14              17\n",
              "4    6  12-15              12              32\n",
              "5    7  15-18               9              25\n",
              "6    8  18-21               3              20\n",
              "7    9  21-24               2              10"
            ]
          },
          "metadata": {
            "tags": []
          },
          "execution_count": 56
        }
      ]
    },
    {
      "cell_type": "code",
      "metadata": {
        "id": "S38KqOtl9EpU",
        "outputId": "f3a4ab87-cd86-411b-a130-792baf127b94",
        "colab": {
          "base_uri": "https://localhost:8080/"
        }
      },
      "source": [
        "#tirar a frequencia relativa\n",
        "\n",
        "def freq_rel(vetor):\n",
        "    soma = 0;\n",
        "    for i in vetor:\n",
        "      soma = soma + i;\n",
        "    vetor_freq = [];\n",
        "    for i in vetor:\n",
        "      vetor_freq.append(round(i/soma,2));\n",
        "    return vetor_freq   \n",
        "  \n",
        "frequencia_relativa_EUA = freq_rel(frequencia[\"frequencia_EUA\"])\n",
        "frequencia_relativa_EUR = freq_rel(frequencia[\"frequencia_EUR\"])\n",
        "print(frequencia_relativa_EUA)\n",
        "print(frequencia_relativa_EUR)"
      ],
      "execution_count": null,
      "outputs": [
        {
          "output_type": "stream",
          "text": [
            "[0.15, 0.23, 0.21, 0.14, 0.12, 0.09, 0.03, 0.02]\n",
            "[0.03, 0.05, 0.1, 0.13, 0.25, 0.2, 0.16, 0.08]\n"
          ],
          "name": "stdout"
        }
      ]
    },
    {
      "cell_type": "code",
      "metadata": {
        "id": "ugIioVwzAUGM",
        "outputId": "0381a3bf-c61c-483c-ecfe-4830d18be6c9",
        "colab": {
          "base_uri": "https://localhost:8080/",
          "height": 277
        }
      },
      "source": [
        "frequencia = frequencia.assign(frequencia_relativa_EUA=pd.Series(frequencia_relativa_EUA))\n",
        "\n",
        "frequencia = frequencia.assign(frequencia_relativa_EUR=pd.Series(frequencia_relativa_EUR))\n",
        "\n",
        "frequencia"
      ],
      "execution_count": null,
      "outputs": [
        {
          "output_type": "execute_result",
          "data": {
            "text/html": [
              "<div>\n",
              "<style scoped>\n",
              "    .dataframe tbody tr th:only-of-type {\n",
              "        vertical-align: middle;\n",
              "    }\n",
              "\n",
              "    .dataframe tbody tr th {\n",
              "        vertical-align: top;\n",
              "    }\n",
              "\n",
              "    .dataframe thead th {\n",
              "        text-align: right;\n",
              "    }\n",
              "</style>\n",
              "<table border=\"1\" class=\"dataframe\">\n",
              "  <thead>\n",
              "    <tr style=\"text-align: right;\">\n",
              "      <th></th>\n",
              "      <th>cod</th>\n",
              "      <th>classe</th>\n",
              "      <th>frequencia_EUA</th>\n",
              "      <th>frequencia_EUR</th>\n",
              "      <th>frequencia_relativa_EUA</th>\n",
              "      <th>frequencia_relativa_EUR</th>\n",
              "    </tr>\n",
              "  </thead>\n",
              "  <tbody>\n",
              "    <tr>\n",
              "      <th>0</th>\n",
              "      <td>2</td>\n",
              "      <td>0-3</td>\n",
              "      <td>15</td>\n",
              "      <td>4</td>\n",
              "      <td>0.15</td>\n",
              "      <td>0.03</td>\n",
              "    </tr>\n",
              "    <tr>\n",
              "      <th>1</th>\n",
              "      <td>3</td>\n",
              "      <td>3-6</td>\n",
              "      <td>23</td>\n",
              "      <td>6</td>\n",
              "      <td>0.23</td>\n",
              "      <td>0.05</td>\n",
              "    </tr>\n",
              "    <tr>\n",
              "      <th>2</th>\n",
              "      <td>4</td>\n",
              "      <td>6-9</td>\n",
              "      <td>21</td>\n",
              "      <td>12</td>\n",
              "      <td>0.21</td>\n",
              "      <td>0.10</td>\n",
              "    </tr>\n",
              "    <tr>\n",
              "      <th>3</th>\n",
              "      <td>5</td>\n",
              "      <td>9-12</td>\n",
              "      <td>14</td>\n",
              "      <td>17</td>\n",
              "      <td>0.14</td>\n",
              "      <td>0.13</td>\n",
              "    </tr>\n",
              "    <tr>\n",
              "      <th>4</th>\n",
              "      <td>6</td>\n",
              "      <td>12-15</td>\n",
              "      <td>12</td>\n",
              "      <td>32</td>\n",
              "      <td>0.12</td>\n",
              "      <td>0.25</td>\n",
              "    </tr>\n",
              "    <tr>\n",
              "      <th>5</th>\n",
              "      <td>7</td>\n",
              "      <td>15-18</td>\n",
              "      <td>9</td>\n",
              "      <td>25</td>\n",
              "      <td>0.09</td>\n",
              "      <td>0.20</td>\n",
              "    </tr>\n",
              "    <tr>\n",
              "      <th>6</th>\n",
              "      <td>8</td>\n",
              "      <td>18-21</td>\n",
              "      <td>3</td>\n",
              "      <td>20</td>\n",
              "      <td>0.03</td>\n",
              "      <td>0.16</td>\n",
              "    </tr>\n",
              "    <tr>\n",
              "      <th>7</th>\n",
              "      <td>9</td>\n",
              "      <td>21-24</td>\n",
              "      <td>2</td>\n",
              "      <td>10</td>\n",
              "      <td>0.02</td>\n",
              "      <td>0.08</td>\n",
              "    </tr>\n",
              "  </tbody>\n",
              "</table>\n",
              "</div>"
            ],
            "text/plain": [
              "   cod classe  ...  frequencia_relativa_EUA  frequencia_relativa_EUR\n",
              "0    2    0-3  ...                     0.15                     0.03\n",
              "1    3    3-6  ...                     0.23                     0.05\n",
              "2    4    6-9  ...                     0.21                     0.10\n",
              "3    5   9-12  ...                     0.14                     0.13\n",
              "4    6  12-15  ...                     0.12                     0.25\n",
              "5    7  15-18  ...                     0.09                     0.20\n",
              "6    8  18-21  ...                     0.03                     0.16\n",
              "7    9  21-24  ...                     0.02                     0.08\n",
              "\n",
              "[8 rows x 6 columns]"
            ]
          },
          "metadata": {
            "tags": []
          },
          "execution_count": 58
        }
      ]
    },
    {
      "cell_type": "code",
      "metadata": {
        "id": "0cFbrFAkCPc9",
        "outputId": "7021851c-ef43-41f6-f7cd-e213ab9dd370",
        "colab": {
          "base_uri": "https://localhost:8080/",
          "height": 530
        }
      },
      "source": [
        "import seaborn as sns  ##vou trabalhar com paletes de cor\n",
        "import matplotlib.pyplot as plt\n",
        "sns.set_style(\"whitegrid\")\n",
        "\n",
        "\n",
        "plt.figure(figsize=(16,8)) ##o primeiro parâmetro é do eixo x e o segundo do y\n",
        "sns.barplot(\n",
        "      x= frequencia[\"classe\"],\n",
        "      y= frequencia[\"frequencia_relativa_EUA\"].values, ##escolhendo o que vai ser no eixo x e no eixo y\n",
        "      palette=sns.color_palette(\"BuGn_r\", n_colors=len(frequencia) + 4),\n",
        ")\n",
        "\n",
        "degrees = 45\n",
        "plt.xticks(rotation=degrees)\n",
        "plt.title(\"Frequência Relativa EUA\")\n",
        "plt.show()"
      ],
      "execution_count": null,
      "outputs": [
        {
          "output_type": "display_data",
          "data": {
            "image/png": "[encoded data removed]",
            "text/plain": [
              "<Figure size 1152x576 with 1 Axes>"
            ]
          },
          "metadata": {
            "tags": []
          }
        }
      ]
    },
    {
      "cell_type": "markdown",
      "metadata": {
        "id": "S9xQd-bTNZVe"
      },
      "source": [
        "O gráfico de frequência relativa dos Estados Unidos tem um comportamento **assimétrico positivo**.\n",
        "\n",
        "\n"
      ]
    },
    {
      "cell_type": "code",
      "metadata": {
        "id": "iKYiRSLvM_th",
        "outputId": "60bb4c44-6d30-41d7-b9fc-07d76beae183",
        "colab": {
          "base_uri": "https://localhost:8080/",
          "height": 530
        }
      },
      "source": [
        "import seaborn as sns  ##vou trabalhar com paletes de cor\n",
        "import matplotlib.pyplot as plt\n",
        "sns.set_style(\"whitegrid\")\n",
        "\n",
        "\n",
        "plt.figure(figsize=(16,8)) ##o primeiro parâmetro é do eixo x e o segundo do y\n",
        "sns.barplot(\n",
        "      x= frequencia[\"classe\"],\n",
        "      y= frequencia[\"frequencia_relativa_EUR\"].values, ##escolhendo o que vai ser no eixo x e no eixo y\n",
        "      palette=sns.color_palette(\"BuGn_r\", n_colors=len(frequencia) + 4),\n",
        ")\n",
        "\n",
        "degrees = 45\n",
        "plt.xticks(rotation=degrees)\n",
        "plt.title(\"Frequência Relativa da Europa\")\n",
        "plt.show()"
      ],
      "execution_count": null,
      "outputs": [
        {
          "output_type": "display_data",
          "data": {
            "image/png": "[encoded data removed]",
            "text/plain": [
              "<Figure size 1152x576 with 1 Axes>"
            ]
          },
          "metadata": {
            "tags": []
          }
        }
      ]
    },
    {
      "cell_type": "markdown",
      "metadata": {
        "id": "Ctf_yp-_N_F8"
      },
      "source": [
        "O gráfico de frequência relativa da Europa tem um comportamento **assimétrico negativo**."
      ]
    }
  ]
}